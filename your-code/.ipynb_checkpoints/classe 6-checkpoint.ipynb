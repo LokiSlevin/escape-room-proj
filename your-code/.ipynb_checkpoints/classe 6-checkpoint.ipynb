{
 "cells": [
  {
   "cell_type": "code",
   "execution_count": 1,
   "metadata": {},
   "outputs": [
    {
     "data": {
      "text/plain": [
       "[1, 2, 3, 4, 1, 2, 3, 4]"
      ]
     },
     "execution_count": 1,
     "metadata": {},
     "output_type": "execute_result"
    }
   ],
   "source": [
    "#numpys\n",
    "\n",
    "import numpy as np\n",
    "\n",
    "mylist=[1,2,3,4]\n",
    "\n",
    "mylist*2\n"
   ]
  },
  {
   "cell_type": "code",
   "execution_count": 11,
   "metadata": {},
   "outputs": [
    {
     "name": "stdout",
     "output_type": "stream",
     "text": [
      "[1 2 3 4]\n",
      "[[9. 8. 7.]\n",
      " [6. 5. 4.]]\n",
      "2\n",
      "(2, 3)\n",
      "[2 4 6 8]\n"
     ]
    }
   ],
   "source": [
    "#try the same with numpy\n",
    "\n",
    "a=np.array([1,2,3,4])\n",
    "print (a)#1d array\n",
    "\n",
    "b=np.array([[9.0,8.0,7.0],[6.0,5.0,4.0]])\n",
    "print(b)\n",
    "\n",
    "print(b.ndim) #number of dimensions of array\n",
    "\n",
    "print(b.shape)#get the shape\n",
    "\n",
    "type(b)\n",
    "\n",
    "print(np.array(mylist)*2) #multiplies each item in list by 2\n",
    "\n"
   ]
  },
  {
   "cell_type": "code",
   "execution_count": 14,
   "metadata": {},
   "outputs": [
    {
     "name": "stdout",
     "output_type": "stream",
     "text": [
      "[[0 0]\n",
      " [0 0]\n",
      " [0 0]]\n",
      "[[1 1]\n",
      " [1 1]\n",
      " [1 1]]\n"
     ]
    }
   ],
   "source": [
    "#numpy is useful for:\n",
    "\n",
    "#generate an array of zeros\n",
    "\n",
    "a=np.zeros((3,2),dtype=int)#dtype argument is optional\n",
    "print(a)\n",
    "\n",
    "b=np.ones((3,2),dtype=int)#dtype argument is optional\n",
    "print(b)"
   ]
  },
  {
   "cell_type": "code",
   "execution_count": 15,
   "metadata": {},
   "outputs": [
    {
     "data": {
      "text/plain": [
       "array([[0.55483453, 0.13505886, 0.03071789, 0.41650523, 0.49887996],\n",
       "       [0.12268689, 0.79998517, 0.84889865, 0.39014227, 0.13099208]])"
      ]
     },
     "execution_count": 15,
     "metadata": {},
     "output_type": "execute_result"
    }
   ],
   "source": [
    "#generate random array\n",
    "\n",
    "np.random.random((2,5))#returns random floats in the interval 0.0 - 1.0"
   ]
  },
  {
   "cell_type": "code",
   "execution_count": 16,
   "metadata": {},
   "outputs": [
    {
     "data": {
      "text/plain": [
       "array([[[0.2253414 , 0.84066975, 0.21122247, 0.6734675 ],\n",
       "        [0.53220068, 0.23716327, 0.37397156, 0.74154339],\n",
       "        [0.90849347, 0.54880996, 0.06760978, 0.0313337 ]],\n",
       "\n",
       "       [[0.5172355 , 0.92460349, 0.32268798, 0.41842887],\n",
       "        [0.37496052, 0.49758897, 0.14379761, 0.42008026],\n",
       "        [0.33053264, 0.38561555, 0.83028615, 0.61854821]]])"
      ]
     },
     "execution_count": 16,
     "metadata": {},
     "output_type": "execute_result"
    }
   ],
   "source": [
    "np.random.random((2,3,4))"
   ]
  },
  {
   "cell_type": "code",
   "execution_count": 17,
   "metadata": {},
   "outputs": [
    {
     "data": {
      "text/plain": [
       "array([ 6,  7,  8,  9, 10, 11, 12, 13, 14, 15, 16, 17, 18, 19, 20, 21, 22,\n",
       "       23, 24, 25, 26, 27, 28, 29, 30, 31, 32, 33, 34, 35, 36, 37, 38, 39,\n",
       "       40, 41, 42, 43, 44, 45, 46, 47, 48, 49, 50, 51, 52, 53, 54, 55, 56,\n",
       "       57, 58, 59, 60, 61, 62, 63, 64, 65, 66, 67, 68, 69, 70, 71, 72, 73,\n",
       "       74, 75, 76, 77, 78, 79, 80, 81, 82, 83, 84, 85, 86, 87, 88, 89, 90,\n",
       "       91, 92, 93, 94, 95, 96, 97, 98, 99])"
      ]
     },
     "execution_count": 17,
     "metadata": {},
     "output_type": "execute_result"
    }
   ],
   "source": [
    "#equivalent to the range but in an array structure\n",
    "\n",
    "np.arange(6,100)"
   ]
  },
  {
   "cell_type": "code",
   "execution_count": 18,
   "metadata": {},
   "outputs": [
    {
     "data": {
      "text/plain": [
       "array([ 6,  8, 10, 12, 14, 16, 18, 20, 22, 24, 26, 28, 30, 32, 34, 36, 38,\n",
       "       40, 42, 44, 46, 48, 50, 52, 54, 56, 58, 60, 62, 64, 66, 68, 70, 72,\n",
       "       74, 76, 78, 80, 82, 84, 86, 88, 90, 92, 94, 96, 98])"
      ]
     },
     "execution_count": 18,
     "metadata": {},
     "output_type": "execute_result"
    }
   ],
   "source": [
    "np.arange(6,100,2)#numbers go 2 by 2"
   ]
  },
  {
   "cell_type": "code",
   "execution_count": 19,
   "metadata": {},
   "outputs": [
    {
     "data": {
      "text/plain": [
       "array([ 6.,  8., 10., 12., 14., 16., 18., 20., 22., 24., 26., 28., 30.,\n",
       "       32., 34., 36., 38., 40., 42., 44., 46., 48., 50., 52., 54., 56.,\n",
       "       58., 60., 62., 64., 66., 68., 70., 72., 74., 76., 78., 80., 82.,\n",
       "       84., 86., 88., 90., 92., 94., 96., 98.])"
      ]
     },
     "execution_count": 19,
     "metadata": {},
     "output_type": "execute_result"
    }
   ],
   "source": [
    "np.arange(6,100,2, dtype=float)\n",
    "#turn into 2d or 3d"
   ]
  },
  {
   "cell_type": "code",
   "execution_count": 21,
   "metadata": {},
   "outputs": [
    {
     "name": "stdout",
     "output_type": "stream",
     "text": [
      "[   5.  560. 1115. 1670. 2225. 2780. 3335. 3890. 4445. 5000.]\n"
     ]
    }
   ],
   "source": [
    "a=np.linspace(5.0,5000,10) #returns an evenly distributed number over a specific interval, in this case, 10 numbers\n",
    "print(a)"
   ]
  },
  {
   "cell_type": "code",
   "execution_count": 22,
   "metadata": {},
   "outputs": [
    {
     "name": "stdout",
     "output_type": "stream",
     "text": [
      "[[ 1  2  3  4  5  6  7]\n",
      " [ 8  9 10 11 12 13 14]]\n"
     ]
    }
   ],
   "source": [
    "#indexing\n",
    "\n",
    "ab=np.array([[1,2,3,4,5,6,7],[8,9,10,11,12,13,14]])\n",
    "\n",
    "print(ab)"
   ]
  },
  {
   "cell_type": "code",
   "execution_count": 24,
   "metadata": {},
   "outputs": [
    {
     "data": {
      "text/plain": [
       "13"
      ]
     },
     "execution_count": 24,
     "metadata": {},
     "output_type": "execute_result"
    }
   ],
   "source": [
    "ab[1,-2]\n"
   ]
  },
  {
   "cell_type": "code",
   "execution_count": 25,
   "metadata": {},
   "outputs": [
    {
     "data": {
      "text/plain": [
       "array([1, 2, 3, 4, 5, 6, 7])"
      ]
     },
     "execution_count": 25,
     "metadata": {},
     "output_type": "execute_result"
    }
   ],
   "source": [
    "#how to get a specific row\n",
    "#it also works without the :\n",
    "ab[0,:]"
   ]
  },
  {
   "cell_type": "code",
   "execution_count": 27,
   "metadata": {},
   "outputs": [
    {
     "data": {
      "text/plain": [
       "array([ 3, 10])"
      ]
     },
     "execution_count": 27,
     "metadata": {},
     "output_type": "execute_result"
    }
   ],
   "source": [
    "#specific column\n",
    "ab[:,2]"
   ]
  },
  {
   "cell_type": "code",
   "execution_count": 28,
   "metadata": {},
   "outputs": [
    {
     "name": "stdout",
     "output_type": "stream",
     "text": [
      "[[ 1  2  3  4  5  6  7]\n",
      " [ 8  9 10 11 12 20 14]]\n"
     ]
    }
   ],
   "source": [
    "#replace a value in the matrix\n",
    "\n",
    "ab[1,5]=20\n",
    "print(ab)"
   ]
  },
  {
   "cell_type": "code",
   "execution_count": 36,
   "metadata": {},
   "outputs": [
    {
     "name": "stdout",
     "output_type": "stream",
     "text": [
      "[False  True False  True False  True False  True False  True]\n",
      "[ 560. 1670. 2780. 3890. 5000.]\n"
     ]
    }
   ],
   "source": [
    "#slicing using boolean vectores\n",
    "#i just want the pairs\n",
    "\n",
    "condition=a%2==0\n",
    "print(condition)\n",
    "\n",
    "print(a[condition])"
   ]
  },
  {
   "cell_type": "code",
   "execution_count": 37,
   "metadata": {},
   "outputs": [
    {
     "name": "stdout",
     "output_type": "stream",
     "text": [
      "[ 560. 1670. 2780. 3890. 5000.]\n"
     ]
    }
   ],
   "source": [
    "#one liner\n",
    "print(a[a%2==0])"
   ]
  },
  {
   "cell_type": "raw",
   "metadata": {},
   "source": [
    "#array=np.random.random\n"
   ]
  },
  {
   "cell_type": "code",
   "execution_count": 39,
   "metadata": {},
   "outputs": [
    {
     "data": {
      "text/plain": [
       "array([   10.,  1120.,  2230.,  3340.,  4450.,  5560.,  6670.,  7780.,\n",
       "        8890., 10000.])"
      ]
     },
     "execution_count": 39,
     "metadata": {},
     "output_type": "execute_result"
    }
   ],
   "source": [
    "#math operations with arrays\n",
    "c=np.array([1,2,3,4])\n",
    "a*2"
   ]
  },
  {
   "cell_type": "code",
   "execution_count": 41,
   "metadata": {},
   "outputs": [
    {
     "name": "stdout",
     "output_type": "stream",
     "text": [
      "[[0.17997158 0.72681488 0.187703   ... 0.30683705 0.11370819 0.47110678]\n",
      " [0.44743306 0.2899762  0.66838995 ... 0.99548969 0.44741631 0.75739089]\n",
      " [0.25685219 0.15275675 0.16243397 ... 0.2923642  0.5444731  0.63144667]\n",
      " ...\n",
      " [0.51481791 0.10933646 0.56751595 ... 0.28472937 0.98188304 0.4823866 ]\n",
      " [0.82646047 0.29435993 0.85405885 ... 0.22603473 0.59884705 0.3066134 ]\n",
      " [0.24908333 0.42110835 0.98431405 ... 0.08563445 0.22525029 0.31783557]]\n"
     ]
    }
   ],
   "source": [
    "#performance of numpy\n",
    "\n",
    "array=np.random.random((1000,1000))\n",
    "print(array)"
   ]
  },
  {
   "cell_type": "code",
   "execution_count": 42,
   "metadata": {},
   "outputs": [
    {
     "name": "stdout",
     "output_type": "stream",
     "text": [
      "[[0.03238977 0.52825986 0.03523242 ... 0.09414898 0.01292955 0.2219416 ]\n",
      " [0.20019634 0.0840862  0.44674512 ... 0.99099973 0.20018135 0.57364096]\n",
      " [0.06597305 0.02333462 0.02638479 ... 0.08547682 0.29645096 0.3987249 ]\n",
      " ...\n",
      " [0.26503748 0.01195446 0.32207436 ... 0.08107082 0.96409431 0.23269683]\n",
      " [0.68303691 0.08664777 0.72941652 ... 0.0510917  0.35861779 0.09401177]\n",
      " [0.0620425  0.17733224 0.96887415 ... 0.00733326 0.05073769 0.10101945]]\n",
      "0.00774693489074707\n"
     ]
    }
   ],
   "source": [
    "import time\n",
    "\n",
    "t1=time.time()\n",
    "\n",
    "newarray=array**2\n",
    "\n",
    "t2=time.time()\n",
    "\n",
    "print(newarray)\n",
    "time_1=t2-t1\n",
    "\n",
    "print(time_1)"
   ]
  },
  {
   "cell_type": "code",
   "execution_count": 43,
   "metadata": {},
   "outputs": [
    {
     "name": "stdout",
     "output_type": "stream",
     "text": [
      "[[0.03238977 0.52825986 0.03523242 ... 0.09414898 0.01292955 0.2219416 ]\n",
      " [0.20019634 0.0840862  0.44674512 ... 0.99099973 0.20018135 0.57364096]\n",
      " [0.06597305 0.02333462 0.02638479 ... 0.08547682 0.29645096 0.3987249 ]\n",
      " ...\n",
      " [0.26503748 0.01195446 0.32207436 ... 0.08107082 0.96409431 0.23269683]\n",
      " [0.68303691 0.08664777 0.72941652 ... 0.0510917  0.35861779 0.09401177]\n",
      " [0.0620425  0.17733224 0.96887415 ... 0.00733326 0.05073769 0.10101945]]\n",
      "0.006241798400878906\n"
     ]
    }
   ],
   "source": [
    "#with np.square\n",
    "t1=time.time()\n",
    "\n",
    "newarray2=np.square(array)\n",
    "\n",
    "t2=time.time()\n",
    "\n",
    "print(newarray2)\n",
    "\n",
    "time_2=t2-t1\n",
    "\n",
    "print(time_2)\n"
   ]
  },
  {
   "cell_type": "code",
   "execution_count": 46,
   "metadata": {},
   "outputs": [
    {
     "name": "stdout",
     "output_type": "stream",
     "text": [
      "499744.3474918549\n",
      "0.4997443474918549\n",
      "0.999999415466757\n"
     ]
    }
   ],
   "source": [
    "#aggregations and stats\n",
    "\n",
    "print(array.sum())\n",
    "print(array.mean())\n",
    "print(array.max())"
   ]
  },
  {
   "cell_type": "code",
   "execution_count": 47,
   "metadata": {},
   "outputs": [
    {
     "name": "stdout",
     "output_type": "stream",
     "text": [
      "[[1 2 3]\n",
      " [4 5 6]\n",
      " [6 7 8]]\n"
     ]
    }
   ],
   "source": [
    "x=np.array([[1,2,3],[4,5,6],[6,7,8]])\n",
    "print(x)"
   ]
  },
  {
   "cell_type": "code",
   "execution_count": 48,
   "metadata": {},
   "outputs": [
    {
     "data": {
      "text/plain": [
       "4.666666666666667"
      ]
     },
     "execution_count": 48,
     "metadata": {},
     "output_type": "execute_result"
    }
   ],
   "source": [
    "x.mean()"
   ]
  },
  {
   "cell_type": "code",
   "execution_count": 49,
   "metadata": {},
   "outputs": [
    {
     "data": {
      "text/plain": [
       "array([2., 5., 7.])"
      ]
     },
     "execution_count": 49,
     "metadata": {},
     "output_type": "execute_result"
    }
   ],
   "source": [
    "x.mean(axis=1)#array with the means of each individual line"
   ]
  },
  {
   "cell_type": "code",
   "execution_count": 50,
   "metadata": {},
   "outputs": [
    {
     "data": {
      "text/plain": [
       "array([3.66666667, 4.66666667, 5.66666667])"
      ]
     },
     "execution_count": 50,
     "metadata": {},
     "output_type": "execute_result"
    }
   ],
   "source": [
    "x.mean(axis=0)#array with the means of each individual column"
   ]
  },
  {
   "cell_type": "code",
   "execution_count": 51,
   "metadata": {},
   "outputs": [
    {
     "data": {
      "text/plain": [
       "array([[   1,   16,   81],\n",
       "       [ 256,  625, 1296],\n",
       "       [1296, 2401, 4096]])"
      ]
     },
     "execution_count": 51,
     "metadata": {},
     "output_type": "execute_result"
    }
   ],
   "source": [
    "#NP methods\n",
    "\n",
    "np.power(x,4)#ever element in array x to the power of 4\n"
   ]
  },
  {
   "cell_type": "code",
   "execution_count": 52,
   "metadata": {},
   "outputs": [
    {
     "data": {
      "text/plain": [
       "array([ 6, 15, 21])"
      ]
     },
     "execution_count": 52,
     "metadata": {},
     "output_type": "execute_result"
    }
   ],
   "source": [
    "np.sum(x,axis=1)#sums every value in each line"
   ]
  },
  {
   "cell_type": "code",
   "execution_count": 53,
   "metadata": {},
   "outputs": [
    {
     "data": {
      "text/plain": [
       "array([[ 1,  4,  9],\n",
       "       [16, 25, 36],\n",
       "       [36, 49, 64]])"
      ]
     },
     "execution_count": 53,
     "metadata": {},
     "output_type": "execute_result"
    }
   ],
   "source": [
    "np.multiply(x,x)#every value in array x is mulitplied by themselves"
   ]
  },
  {
   "cell_type": "code",
   "execution_count": 54,
   "metadata": {},
   "outputs": [
    {
     "name": "stdout",
     "output_type": "stream",
     "text": [
      "[[[ 6]\n",
      "  [ 7]]\n",
      "\n",
      " [[ 8]\n",
      "  [ 9]]\n",
      "\n",
      " [[10]\n",
      "  [11]]\n",
      "\n",
      " [[12]\n",
      "  [13]]\n",
      "\n",
      " [[14]\n",
      "  [15]]\n",
      "\n",
      " [[16]\n",
      "  [17]]\n",
      "\n",
      " [[18]\n",
      "  [19]]\n",
      "\n",
      " [[20]\n",
      "  [21]]\n",
      "\n",
      " [[22]\n",
      "  [23]]\n",
      "\n",
      " [[24]\n",
      "  [25]]\n",
      "\n",
      " [[26]\n",
      "  [27]]\n",
      "\n",
      " [[28]\n",
      "  [29]]\n",
      "\n",
      " [[30]\n",
      "  [31]]\n",
      "\n",
      " [[32]\n",
      "  [33]]\n",
      "\n",
      " [[34]\n",
      "  [35]]\n",
      "\n",
      " [[36]\n",
      "  [37]]\n",
      "\n",
      " [[38]\n",
      "  [39]]\n",
      "\n",
      " [[40]\n",
      "  [41]]\n",
      "\n",
      " [[42]\n",
      "  [43]]\n",
      "\n",
      " [[44]\n",
      "  [45]]\n",
      "\n",
      " [[46]\n",
      "  [47]]\n",
      "\n",
      " [[48]\n",
      "  [49]]\n",
      "\n",
      " [[50]\n",
      "  [51]]\n",
      "\n",
      " [[52]\n",
      "  [53]]\n",
      "\n",
      " [[54]\n",
      "  [55]]\n",
      "\n",
      " [[56]\n",
      "  [57]]\n",
      "\n",
      " [[58]\n",
      "  [59]]\n",
      "\n",
      " [[60]\n",
      "  [61]]\n",
      "\n",
      " [[62]\n",
      "  [63]]\n",
      "\n",
      " [[64]\n",
      "  [65]]\n",
      "\n",
      " [[66]\n",
      "  [67]]\n",
      "\n",
      " [[68]\n",
      "  [69]]\n",
      "\n",
      " [[70]\n",
      "  [71]]\n",
      "\n",
      " [[72]\n",
      "  [73]]\n",
      "\n",
      " [[74]\n",
      "  [75]]\n",
      "\n",
      " [[76]\n",
      "  [77]]\n",
      "\n",
      " [[78]\n",
      "  [79]]\n",
      "\n",
      " [[80]\n",
      "  [81]]\n",
      "\n",
      " [[82]\n",
      "  [83]]\n",
      "\n",
      " [[84]\n",
      "  [85]]\n",
      "\n",
      " [[86]\n",
      "  [87]]\n",
      "\n",
      " [[88]\n",
      "  [89]]\n",
      "\n",
      " [[90]\n",
      "  [91]]\n",
      "\n",
      " [[92]\n",
      "  [93]]\n",
      "\n",
      " [[94]\n",
      "  [95]]\n",
      "\n",
      " [[96]\n",
      "  [97]]\n",
      "\n",
      " [[98]\n",
      "  [99]]]\n"
     ]
    }
   ],
   "source": [
    "#reshape\n",
    "\n",
    "#print(np.arange(6,100).reshape([47,2]))\n",
    "\n",
    "\n",
    "print(np.arange(6,100).reshape([47,2,1]))"
   ]
  },
  {
   "cell_type": "code",
   "execution_count": 55,
   "metadata": {},
   "outputs": [
    {
     "name": "stdout",
     "output_type": "stream",
     "text": [
      "[   5.  560. 1115. 1670. 2225. 2780. 3335. 3890. 4445. 5000.]\n"
     ]
    }
   ],
   "source": [
    "#returns evenly spaced numbers over specific interval\n",
    "\n",
    "a=np.linspace(5.0,5000,10)\n",
    "print(a)"
   ]
  },
  {
   "cell_type": "code",
   "execution_count": null,
   "metadata": {},
   "outputs": [],
   "source": []
  }
 ],
 "metadata": {
  "kernelspec": {
   "display_name": "Python 3",
   "language": "python",
   "name": "python3"
  },
  "language_info": {
   "codemirror_mode": {
    "name": "ipython",
    "version": 3
   },
   "file_extension": ".py",
   "mimetype": "text/x-python",
   "name": "python",
   "nbconvert_exporter": "python",
   "pygments_lexer": "ipython3",
   "version": "3.8.3"
  }
 },
 "nbformat": 4,
 "nbformat_minor": 4
}
